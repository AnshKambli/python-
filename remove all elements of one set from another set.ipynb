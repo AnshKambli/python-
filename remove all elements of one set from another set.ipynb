{
  "nbformat": 4,
  "nbformat_minor": 0,
  "metadata": {
    "colab": {
      "provenance": [],
      "authorship_tag": "ABX9TyPwNAa2GVsFDc1VyeUXw1wL",
      "include_colab_link": true
    },
    "kernelspec": {
      "name": "python3",
      "display_name": "Python 3"
    },
    "language_info": {
      "name": "python"
    }
  },
  "cells": [
    {
      "cell_type": "markdown",
      "metadata": {
        "id": "view-in-github",
        "colab_type": "text"
      },
      "source": [
        "<a href=\"https://colab.research.google.com/github/AnshKambli/python-/blob/main/remove%20all%20elements%20of%20one%20set%20from%20another%20set.ipynb\" target=\"_parent\"><img src=\"https://colab.research.google.com/assets/colab-badge.svg\" alt=\"Open In Colab\"/></a>"
      ]
    },
    {
      "cell_type": "code",
      "execution_count": 4,
      "metadata": {
        "colab": {
          "base_uri": "https://localhost:8080/"
        },
        "id": "M8vzfBTSx8EP",
        "outputId": "c09449c5-e772-494d-c107-a532b37d7d69"
      },
      "outputs": [
        {
          "output_type": "stream",
          "name": "stdout",
          "text": [
            "Updated set1 after removing elements of set2: {50, 10, 30}\n"
          ]
        }
      ],
      "source": [
        "def remove_elements(set1, set2):\n",
        "    # Remove all elements of set2 from set1\n",
        "    set1 -= set2\n",
        "    return set1\n",
        "\n",
        "# Input sets\n",
        "set1 = {10, 20, 30, 40, 50}\n",
        "set2 = {20, 40}\n",
        "\n",
        "# Remove elements of set2 from set1\n",
        "result = remove_elements(set1, set2)\n",
        "\n",
        "# Output the result\n",
        "print(f\"Updated set1 after removing elements of set2: {result}\")\n"
      ]
    },
    {
      "cell_type": "code",
      "source": [],
      "metadata": {
        "id": "FJ6s5AB6z_nV"
      },
      "execution_count": null,
      "outputs": []
    }
  ]
}