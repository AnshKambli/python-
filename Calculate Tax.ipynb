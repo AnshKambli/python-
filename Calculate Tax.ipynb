{
  "nbformat": 4,
  "nbformat_minor": 0,
  "metadata": {
    "colab": {
      "provenance": [],
      "authorship_tag": "ABX9TyO3KuQ7zfy8SpVD8Ahr9raO",
      "include_colab_link": true
    },
    "kernelspec": {
      "name": "python3",
      "display_name": "Python 3"
    },
    "language_info": {
      "name": "python"
    }
  },
  "cells": [
    {
      "cell_type": "markdown",
      "metadata": {
        "id": "view-in-github",
        "colab_type": "text"
      },
      "source": [
        "<a href=\"https://colab.research.google.com/github/AnshKambli/python-/blob/main/Calculate%20Tax.ipynb\" target=\"_parent\"><img src=\"https://colab.research.google.com/assets/colab-badge.svg\" alt=\"Open In Colab\"/></a>"
      ]
    },
    {
      "cell_type": "code",
      "execution_count": 1,
      "metadata": {
        "id": "QE9EpqvNdDMp"
      },
      "outputs": [],
      "source": [
        "#Write a program to calculate tax"
      ]
    },
    {
      "cell_type": "code",
      "source": [
        "def calculate_tax(income):\n",
        "    if income <= 250000:\n",
        "        tax = 0\n",
        "    elif income <= 500000:\n",
        "        tax = 0.05 * (income - 250000)\n",
        "    elif income <= 1000000:\n",
        "        tax = (0.05 * 250000) + (0.2 * (income - 500000))\n",
        "    else:\n",
        "        tax = (0.05 * 250000) + (0.2 * 500000) + (0.3 * (income - 1000000))\n",
        "    return tax\n",
        "\n",
        "\n",
        "# Get user input\n",
        "try:\n",
        "    income = float(input(\"Enter your annual income (in ₹): \"))\n",
        "    if income < 0:\n",
        "        print(\"Income cannot be negative. Please enter a valid amount.\")\n",
        "    else:\n",
        "        tax = calculate_tax(income)\n",
        "        print(f\"Your calculated tax is: ₹{tax:.2f}\")\n",
        "except ValueError:\n",
        "    print(\"Invalid input! Please enter a valid numeric value for income.\")\n"
      ],
      "metadata": {
        "colab": {
          "base_uri": "https://localhost:8080/"
        },
        "id": "u_DKWjKgdajT",
        "outputId": "c7959997-e0da-492a-a9d7-569755e85b78"
      },
      "execution_count": 11,
      "outputs": [
        {
          "output_type": "stream",
          "name": "stdout",
          "text": [
            "Enter your annual income (in ₹): 900000\n",
            "Your calculated tax is: ₹92500.00\n"
          ]
        }
      ]
    },
    {
      "cell_type": "code",
      "source": [],
      "metadata": {
        "id": "plA6uOIHdqA_"
      },
      "execution_count": 10,
      "outputs": []
    },
    {
      "cell_type": "code",
      "source": [],
      "metadata": {
        "id": "_wXwvyQxffbq"
      },
      "execution_count": null,
      "outputs": []
    }
  ]
}