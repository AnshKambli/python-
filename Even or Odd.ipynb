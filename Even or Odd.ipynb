{
 "cells": [
  {
   "cell_type": "code",
   "execution_count": 3,
   "id": "c75a52ca-1425-4ee6-906e-9a42a3d34d79",
   "metadata": {},
   "outputs": [],
   "source": [
    "# Write a python code that takes a number as an argument and return true if the number is even and false if the number is odd\n"
   ]
  },
  {
   "cell_type": "code",
   "execution_count": 11,
   "id": "8fe6bc16-21b5-4c85-bfe3-409aacf3132d",
   "metadata": {},
   "outputs": [
    {
     "name": "stdin",
     "output_type": "stream",
     "text": [
      "enter the number 5\n"
     ]
    },
    {
     "name": "stdout",
     "output_type": "stream",
     "text": [
      "False\n"
     ]
    }
   ],
   "source": [
    "def is_even(nums):\n",
    "    return nums%2==0\n",
    "a=int(input(\"enter the number\"))\n",
    "print(is_even(a))"
   ]
  },
  {
   "cell_type": "code",
   "execution_count": null,
   "id": "6c72e46c-edd5-4e6c-87e0-8ad448a89d20",
   "metadata": {},
   "outputs": [],
   "source": []
  }
 ],
 "metadata": {
  "kernelspec": {
   "display_name": "Python 3 (ipykernel)",
   "language": "python",
   "name": "python3"
  },
  "language_info": {
   "codemirror_mode": {
    "name": "ipython",
    "version": 3
   },
   "file_extension": ".py",
   "mimetype": "text/x-python",
   "name": "python",
   "nbconvert_exporter": "python",
   "pygments_lexer": "ipython3",
   "version": "3.12.4"
  }
 },
 "nbformat": 4,
 "nbformat_minor": 5
}
