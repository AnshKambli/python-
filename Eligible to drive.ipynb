{
  "nbformat": 4,
  "nbformat_minor": 0,
  "metadata": {
    "colab": {
      "provenance": [],
      "authorship_tag": "ABX9TyPyq8AyAaDhpJ+ExL0aTWeV",
      "include_colab_link": true
    },
    "kernelspec": {
      "name": "python3",
      "display_name": "Python 3"
    },
    "language_info": {
      "name": "python"
    }
  },
  "cells": [
    {
      "cell_type": "markdown",
      "metadata": {
        "id": "view-in-github",
        "colab_type": "text"
      },
      "source": [
        "<a href=\"https://colab.research.google.com/github/AnshKambli/python-/blob/main/Eligible%20to%20drive.ipynb\" target=\"_parent\"><img src=\"https://colab.research.google.com/assets/colab-badge.svg\" alt=\"Open In Colab\"/></a>"
      ]
    },
    {
      "cell_type": "code",
      "execution_count": 1,
      "metadata": {
        "id": "QE9EpqvNdDMp"
      },
      "outputs": [],
      "source": [
        "# Write a program to check if a person is eligible for car insurance:"
      ]
    },
    {
      "cell_type": "code",
      "source": [
        "def age_eligible(age):\n",
        "    if age >= 25:\n",
        "        return \"You are eligible for car insurance\"\n",
        "    else:\n",
        "        return \"You are not eligible for car insurance\"\n",
        "\n",
        "# Get input from the user\n",
        "a = int(input(\"Enter your age: \"))\n",
        "b = age_eligible(a)\n",
        "print(f\"{b}\")\n",
        "\n",
        ""
      ],
      "metadata": {
        "colab": {
          "base_uri": "https://localhost:8080/"
        },
        "id": "u_DKWjKgdajT",
        "outputId": "95476609-055b-4739-f7b2-64b537894c7d"
      },
      "execution_count": 6,
      "outputs": [
        {
          "output_type": "stream",
          "name": "stdout",
          "text": [
            "Enter your age: 25\n",
            "You are eligible for car insurance\n"
          ]
        }
      ]
    },
    {
      "cell_type": "code",
      "source": [],
      "metadata": {
        "id": "plA6uOIHdqA_"
      },
      "execution_count": null,
      "outputs": []
    }
  ]
}