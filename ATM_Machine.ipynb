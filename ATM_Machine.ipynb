{
  "nbformat": 4,
  "nbformat_minor": 0,
  "metadata": {
    "colab": {
      "provenance": [],
      "authorship_tag": "ABX9TyO+qmJZGdcDN28L4mo03b1T",
      "include_colab_link": true
    },
    "kernelspec": {
      "name": "python3",
      "display_name": "Python 3"
    },
    "language_info": {
      "name": "python"
    }
  },
  "cells": [
    {
      "cell_type": "markdown",
      "metadata": {
        "id": "view-in-github",
        "colab_type": "text"
      },
      "source": [
        "<a href=\"https://colab.research.google.com/github/AnshKambli/python-/blob/main/ATM_Machine.ipynb\" target=\"_parent\"><img src=\"https://colab.research.google.com/assets/colab-badge.svg\" alt=\"Open In Colab\"/></a>"
      ]
    },
    {
      "cell_type": "code",
      "execution_count": 1,
      "metadata": {
        "colab": {
          "base_uri": "https://localhost:8080/"
        },
        "id": "M8vzfBTSx8EP",
        "outputId": "05309a1b-a06b-402d-821f-11b0aa00b487"
      },
      "outputs": [
        {
          "output_type": "stream",
          "name": "stdout",
          "text": [
            "\n",
            "ATM Menu:\n",
            "1. Check Balance\n",
            "2. Deposit\n",
            "3. Withdraw\n",
            "4. Exit\n",
            "Enter your choice (1/2/3/4): 1\n",
            "Your current balance is: ₹0\n",
            "\n",
            "ATM Menu:\n",
            "1. Check Balance\n",
            "2. Deposit\n",
            "3. Withdraw\n",
            "4. Exit\n",
            "Enter your choice (1/2/3/4): 2\n",
            "Enter amount to deposit: ₹10000\n",
            "₹10000.0 deposited successfully.\n",
            "\n",
            "ATM Menu:\n",
            "1. Check Balance\n",
            "2. Deposit\n",
            "3. Withdraw\n",
            "4. Exit\n",
            "Enter your choice (1/2/3/4): 1\n",
            "Your current balance is: ₹10000.0\n",
            "\n",
            "ATM Menu:\n",
            "1. Check Balance\n",
            "2. Deposit\n",
            "3. Withdraw\n",
            "4. Exit\n",
            "Enter your choice (1/2/3/4): 3\n",
            "Enter amount to withdraw: ₹1000000\n",
            "Insufficient funds.\n",
            "\n",
            "ATM Menu:\n",
            "1. Check Balance\n",
            "2. Deposit\n",
            "3. Withdraw\n",
            "4. Exit\n",
            "Enter your choice (1/2/3/4): 4\n",
            "Thank you for using the ATM. Goodbye!\n"
          ]
        }
      ],
      "source": [
        "class ATM:\n",
        "    def __init__(self):\n",
        "        self.balance = 0\n",
        "\n",
        "    def check_balance(self):\n",
        "        print(f\"Your current balance is: ₹{self.balance}\")\n",
        "\n",
        "    def deposit(self, amount):\n",
        "        if amount > 0:\n",
        "            self.balance += amount\n",
        "            print(f\"₹{amount} deposited successfully.\")\n",
        "        else:\n",
        "            print(\"Deposit amount must be positive.\")\n",
        "\n",
        "    def withdraw(self, amount):\n",
        "        if amount <= 0:\n",
        "            print(\"Withdrawal amount must be positive.\")\n",
        "        elif amount > self.balance:\n",
        "            print(\"Insufficient funds.\")\n",
        "        else:\n",
        "            self.balance -= amount\n",
        "            print(f\"₹{amount} withdrawn successfully.\")\n",
        "\n",
        "def atm_machine():\n",
        "    atm = ATM()\n",
        "\n",
        "    while True:\n",
        "        print(\"\\nATM Menu:\")\n",
        "        print(\"1. Check Balance\")\n",
        "        print(\"2. Deposit\")\n",
        "        print(\"3. Withdraw\")\n",
        "        print(\"4. Exit\")\n",
        "\n",
        "        try:\n",
        "            choice = int(input(\"Enter your choice (1/2/3/4): \"))\n",
        "\n",
        "            if choice == 1:\n",
        "                atm.check_balance()\n",
        "            elif choice == 2:\n",
        "                amount = float(input(\"Enter amount to deposit: ₹\"))\n",
        "                atm.deposit(amount)\n",
        "            elif choice == 3:\n",
        "                amount = float(input(\"Enter amount to withdraw: ₹\"))\n",
        "                atm.withdraw(amount)\n",
        "            elif choice == 4:\n",
        "                print(\"Thank you for using the ATM. Goodbye!\")\n",
        "                break\n",
        "            else:\n",
        "                print(\"Invalid choice. Please try again.\")\n",
        "        except ValueError:\n",
        "            print(\"Invalid input. Please enter a valid number.\")\n",
        "\n",
        "# Run the ATM machine program\n",
        "atm_machine()\n"
      ]
    },
    {
      "cell_type": "code",
      "source": [],
      "metadata": {
        "id": "FJ6s5AB6z_nV"
      },
      "execution_count": null,
      "outputs": []
    }
  ]
}