{
  "nbformat": 4,
  "nbformat_minor": 0,
  "metadata": {
    "colab": {
      "provenance": [],
      "authorship_tag": "ABX9TyMn2fDCBu67lq1jx9PLigCm",
      "include_colab_link": true
    },
    "kernelspec": {
      "name": "python3",
      "display_name": "Python 3"
    },
    "language_info": {
      "name": "python"
    }
  },
  "cells": [
    {
      "cell_type": "markdown",
      "metadata": {
        "id": "view-in-github",
        "colab_type": "text"
      },
      "source": [
        "<a href=\"https://colab.research.google.com/github/AnshKambli/python-/blob/main/Budget%20Tracker.ipynb\" target=\"_parent\"><img src=\"https://colab.research.google.com/assets/colab-badge.svg\" alt=\"Open In Colab\"/></a>"
      ]
    },
    {
      "cell_type": "code",
      "execution_count": 1,
      "metadata": {
        "colab": {
          "base_uri": "https://localhost:8080/"
        },
        "id": "Jwqpuy350BzY",
        "outputId": "42b9e1b2-3352-430a-f1d7-6faf6e7f608b"
      },
      "outputs": [
        {
          "output_type": "stream",
          "name": "stdout",
          "text": [
            "Enter your monthly income (₹): 200000\n",
            "\n",
            "Enter your monthly expenses for the following categories:\n",
            "Rent: ₹0\n",
            "Groceries: ₹15000\n",
            "Utilities: ₹1000\n",
            "Entertainment: ₹2000\n",
            "Others: ₹5000\n",
            "\n",
            "--- Budget Summary ---\n",
            "Total Income: ₹200000.0\n",
            "Total Expenses: ₹23000.0\n",
            "Remaining Balance: ₹177000.0\n",
            "Suggested Saving (20% of balance): ₹35400.0\n",
            "\n",
            "--- Expense Breakdown ---\n",
            "Rent: ₹0.0\n",
            "Groceries: ₹15000.0\n",
            "Utilities: ₹1000.0\n",
            "Entertainment: ₹2000.0\n",
            "Others: ₹5000.0\n"
          ]
        }
      ],
      "source": [
        "def budget_tracker():\n",
        "    # Input monthly income\n",
        "    income = float(input(\"Enter your monthly income (₹): \"))\n",
        "\n",
        "    # Expense categories\n",
        "    categories = [\"Rent\", \"Groceries\", \"Utilities\", \"Entertainment\", \"Others\"]\n",
        "    expenses = {}\n",
        "\n",
        "    # Input expenses for each category\n",
        "    print(\"\\nEnter your monthly expenses for the following categories:\")\n",
        "    for category in categories:\n",
        "        amount = float(input(f\"{category}: ₹\"))\n",
        "        expenses[category] = amount\n",
        "\n",
        "    # Calculate total expenses\n",
        "    total_expenses = sum(expenses.values())\n",
        "\n",
        "    # Calculate remaining balance\n",
        "    remaining_balance = income - total_expenses\n",
        "\n",
        "    # Suggest saving 20% of remaining balance if positive\n",
        "    suggested_saving = 0\n",
        "    if remaining_balance > 0:\n",
        "        suggested_saving = 0.2 * remaining_balance\n",
        "        print(\"\\n--- Budget Summary ---\")\n",
        "        print(f\"Total Income: ₹{income}\")\n",
        "        print(f\"Total Expenses: ₹{total_expenses}\")\n",
        "        print(f\"Remaining Balance: ₹{remaining_balance}\")\n",
        "        print(f\"Suggested Saving (20% of balance): ₹{suggested_saving}\")\n",
        "    else:\n",
        "        print(\"\\n--- Budget Summary ---\")\n",
        "        print(f\"Total Income: ₹{income}\")\n",
        "        print(f\"Total Expenses: ₹{total_expenses}\")\n",
        "        print(\"You are overspending! No savings possible.\")\n",
        "\n",
        "    # Display detailed breakdown\n",
        "    print(\"\\n--- Expense Breakdown ---\")\n",
        "    for category, amount in expenses.items():\n",
        "        print(f\"{category}: ₹{amount}\")\n",
        "\n",
        "# Run the budget tracker\n",
        "budget_tracker()\n"
      ]
    },
    {
      "cell_type": "code",
      "source": [],
      "metadata": {
        "id": "bFHk17JC0s9g"
      },
      "execution_count": null,
      "outputs": []
    }
  ]
}