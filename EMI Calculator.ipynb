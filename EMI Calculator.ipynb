{
  "nbformat": 4,
  "nbformat_minor": 0,
  "metadata": {
    "colab": {
      "provenance": [],
      "authorship_tag": "ABX9TyNlGsL6bUxho3zbgiMtcVoz",
      "include_colab_link": true
    },
    "kernelspec": {
      "name": "python3",
      "display_name": "Python 3"
    },
    "language_info": {
      "name": "python"
    }
  },
  "cells": [
    {
      "cell_type": "markdown",
      "metadata": {
        "id": "view-in-github",
        "colab_type": "text"
      },
      "source": [
        "<a href=\"https://colab.research.google.com/github/AnshKambli/python-/blob/main/EMI%20Calculator.ipynb\" target=\"_parent\"><img src=\"https://colab.research.google.com/assets/colab-badge.svg\" alt=\"Open In Colab\"/></a>"
      ]
    },
    {
      "cell_type": "code",
      "execution_count": 9,
      "metadata": {
        "colab": {
          "base_uri": "https://localhost:8080/"
        },
        "id": "M8vzfBTSx8EP",
        "outputId": "ad3637db-ccdc-4810-bc00-174f4b5e07ce"
      },
      "outputs": [
        {
          "output_type": "stream",
          "name": "stdout",
          "text": [
            "Enter the loan amount (₹): 500000\n",
            "Enter the annual interest rate (in %): 8\n",
            "Enter the loan tenure (in years): 20\n",
            "\n",
            "EMI per month: ₹4182.20\n",
            "Total amount to be paid over 20 years: ₹1003728.08\n"
          ]
        }
      ],
      "source": [
        "def calculate_emi(loan_amount, annual_interest_rate, tenure_years):\n",
        "    # Convert annual interest rate to monthly and tenure to months\n",
        "    monthly_interest_rate = annual_interest_rate / 12 / 100\n",
        "    number_of_payments = tenure_years * 12\n",
        "\n",
        "    # Calculate EMI using the formula\n",
        "    emi = (loan_amount * monthly_interest_rate * (1 + monthly_interest_rate) ** number_of_payments) / ((1 + monthly_interest_rate) ** number_of_payments - 1)\n",
        "\n",
        "    # Calculate total amount to be paid over the loan period\n",
        "    total_amount = emi * number_of_payments\n",
        "\n",
        "    return emi, total_amount\n",
        "\n",
        "# Input: Loan amount, annual interest rate, and loan tenure\n",
        "loan_amount = float(input(\"Enter the loan amount (₹): \"))\n",
        "annual_interest_rate = float(input(\"Enter the annual interest rate (in %): \"))\n",
        "tenure_years = int(input(\"Enter the loan tenure (in years): \"))\n",
        "\n",
        "# Calculate the EMI and total amount\n",
        "emi, total_amount = calculate_emi(loan_amount, annual_interest_rate, tenure_years)\n",
        "\n",
        "# Output the EMI and total amount\n",
        "print(f\"\\nEMI per month: ₹{emi:.2f}\")\n",
        "print(f\"Total amount to be paid over {tenure_years} years: ₹{total_amount:.2f}\")\n"
      ]
    },
    {
      "cell_type": "code",
      "source": [],
      "metadata": {
        "id": "FJ6s5AB6z_nV"
      },
      "execution_count": null,
      "outputs": []
    }
  ]
}