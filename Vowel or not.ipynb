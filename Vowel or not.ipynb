{
  "nbformat": 4,
  "nbformat_minor": 0,
  "metadata": {
    "colab": {
      "provenance": [],
      "authorship_tag": "ABX9TyM2nmsQ5KiJlBuWPUBhFrS0",
      "include_colab_link": true
    },
    "kernelspec": {
      "name": "python3",
      "display_name": "Python 3"
    },
    "language_info": {
      "name": "python"
    }
  },
  "cells": [
    {
      "cell_type": "markdown",
      "metadata": {
        "id": "view-in-github",
        "colab_type": "text"
      },
      "source": [
        "<a href=\"https://colab.research.google.com/github/AnshKambli/python-/blob/main/Vowel%20or%20not.ipynb\" target=\"_parent\"><img src=\"https://colab.research.google.com/assets/colab-badge.svg\" alt=\"Open In Colab\"/></a>"
      ]
    },
    {
      "cell_type": "code",
      "execution_count": 1,
      "metadata": {
        "id": "QE9EpqvNdDMp"
      },
      "outputs": [],
      "source": [
        "#Write a program to check if a character entered by the user is a vowel or consonant."
      ]
    },
    {
      "cell_type": "code",
      "source": [
        "def vowel(letter):\n",
        "    if len(letter) != 1:\n",
        "        return \"Invalid input. Please enter a single letter.\"\n",
        "    if letter in \"a,e,i,o,u,A,E,I,O,U\":\n",
        "        return True\n",
        "    else:\n",
        "        return False\n",
        "\n",
        "# Get input from the user\n",
        "a = input(\"Enter a single letter: \")\n",
        "b = vowel(a)\n",
        "print(f\"{b}\")\n"
      ],
      "metadata": {
        "colab": {
          "base_uri": "https://localhost:8080/"
        },
        "id": "u_DKWjKgdajT",
        "outputId": "24e5898f-cc20-456a-df66-ff6ab69eb94e"
      },
      "execution_count": 9,
      "outputs": [
        {
          "output_type": "stream",
          "name": "stdout",
          "text": [
            "Enter a single letter: f\n",
            "False\n"
          ]
        }
      ]
    },
    {
      "cell_type": "code",
      "source": [],
      "metadata": {
        "id": "plA6uOIHdqA_"
      },
      "execution_count": 10,
      "outputs": []
    },
    {
      "cell_type": "code",
      "source": [],
      "metadata": {
        "id": "_wXwvyQxffbq"
      },
      "execution_count": null,
      "outputs": []
    }
  ]
}