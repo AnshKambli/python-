{
  "nbformat": 4,
  "nbformat_minor": 0,
  "metadata": {
    "colab": {
      "provenance": [],
      "authorship_tag": "ABX9TyOtdkXFW1PbBIAE5NOhkhY1",
      "include_colab_link": true
    },
    "kernelspec": {
      "name": "python3",
      "display_name": "Python 3"
    },
    "language_info": {
      "name": "python"
    }
  },
  "cells": [
    {
      "cell_type": "markdown",
      "metadata": {
        "id": "view-in-github",
        "colab_type": "text"
      },
      "source": [
        "<a href=\"https://colab.research.google.com/github/AnshKambli/python-/blob/main/Write%20a%20program%20that%20assigns%20a%20grade%20based%20on%20a%20score.ipynb\" target=\"_parent\"><img src=\"https://colab.research.google.com/assets/colab-badge.svg\" alt=\"Open In Colab\"/></a>"
      ]
    },
    {
      "cell_type": "code",
      "execution_count": 1,
      "metadata": {
        "id": "Q8T55Wa3tEuP"
      },
      "outputs": [],
      "source": [
        "#Write a program that assigns a grade based on a score"
      ]
    },
    {
      "cell_type": "code",
      "source": [
        "def in_grade(score):\n",
        "    if score >= 90:\n",
        "        return 'A'\n",
        "    elif score >= 80:\n",
        "        return 'B'\n",
        "    elif score >= 70:\n",
        "        return 'C'\n",
        "    elif score >= 60:\n",
        "        return 'D'\n",
        "    else:\n",
        "      return 'Fail'\n",
        "a=int(input(\"enter the score\"))\n",
        "print(in_grade(a))"
      ],
      "metadata": {
        "colab": {
          "base_uri": "https://localhost:8080/"
        },
        "id": "B-XZrpO2tL1a",
        "outputId": "a8171aa0-887c-4913-a6f6-1185e9d04e41"
      },
      "execution_count": 10,
      "outputs": [
        {
          "output_type": "stream",
          "name": "stdout",
          "text": [
            "enter the score54\n",
            "Fail\n"
          ]
        }
      ]
    },
    {
      "cell_type": "code",
      "source": [],
      "metadata": {
        "id": "Dr4n32TCt1gw"
      },
      "execution_count": null,
      "outputs": []
    }
  ]
}