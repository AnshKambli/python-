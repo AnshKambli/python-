{
 "cells": [
  {
   "cell_type": "markdown",
   "id": "b5cc06ef-9a11-4158-a1c3-557eba4fd1cc",
   "metadata": {},
   "source": [
    "#"
   ]
  },
  {
   "cell_type": "code",
   "execution_count": 1,
   "id": "ceb2d38d-f264-4899-a25e-33bb21789e62",
   "metadata": {},
   "outputs": [
    {
     "name": "stdout",
     "output_type": "stream",
     "text": [
      "hello world\n"
     ]
    }
   ],
   "source": []
  },
  {
   "cell_type": "code",
   "execution_count": 2,
   "id": "867c34cf-56da-4bdc-a38c-80d153183013",
   "metadata": {},
   "outputs": [
    {
     "name": "stdin",
     "output_type": "stream",
     "text": [
      "enter the number 12\n"
     ]
    }
   ],
   "source": [
    "a= int(input(\"enter the number\"))"
   ]
  },
  {
   "cell_type": "code",
   "execution_count": 13,
   "id": "ae3588d8-9aaa-4e62-8266-6db30736a421",
   "metadata": {},
   "outputs": [
    {
     "name": "stdout",
     "output_type": "stream",
     "text": [
      "hii\n"
     ]
    }
   ],
   "source": [
    "def ansh():\n",
    "    print(\"hii\")\n",
    "ansh()"
   ]
  },
  {
   "cell_type": "code",
   "execution_count": 18,
   "id": "9a77699d-d1df-40ba-b938-452dca487551",
   "metadata": {},
   "outputs": [
    {
     "name": "stdout",
     "output_type": "stream",
     "text": [
      "hii,Ansh\n"
     ]
    }
   ],
   "source": [
    "def greet_user(name):\n",
    "    print(f\"hii,{name}\")\n",
    "greet_user(\"Ansh\")"
   ]
  },
  {
   "cell_type": "code",
   "execution_count": 20,
   "id": "61a984bd-86da-4308-920f-1c11dc5276de",
   "metadata": {},
   "outputs": [
    {
     "name": "stdout",
     "output_type": "stream",
     "text": [
      "hi,16\n"
     ]
    }
   ],
   "source": [
    "def add_num(a,b):\n",
    "    return a+b\n",
    "result=add_num(8,8)    \n",
    "print(f\"hi,{result}\")"
   ]
  },
  {
   "cell_type": "code",
   "execution_count": 28,
   "id": "135c65c9-5ced-4f61-a397-4ca8c30e4a13",
   "metadata": {},
   "outputs": [
    {
     "name": "stdout",
     "output_type": "stream",
     "text": [
      "The largest number is: 20\n"
     ]
    }
   ],
   "source": [
    "def find_max(a,b,c):\n",
    "    if a >=b and a>=c:\n",
    "        return a\n",
    "    elif b>=a and b>=c:\n",
    "        return b\n",
    "    else:\n",
    "        return c\n",
    "max_value = find_max(10, 20, 5)\n",
    "print(f\"The largest number is: {max_value}\")\n",
    "\n"
   ]
  },
  {
   "cell_type": "code",
   "execution_count": 23,
   "id": "877091a6-d591-4e13-b633-ca62e2b47ace",
   "metadata": {},
   "outputs": [
    {
     "ename": "NameError",
     "evalue": "name 'find_max' is not defined",
     "output_type": "error",
     "traceback": [
      "\u001b[1;31m---------------------------------------------------------------------------\u001b[0m",
      "\u001b[1;31mNameError\u001b[0m                                 Traceback (most recent call last)",
      "Cell \u001b[1;32mIn[23], line 1\u001b[0m\n\u001b[1;32m----> 1\u001b[0m max_value \u001b[38;5;241m=\u001b[39m find_max(\u001b[38;5;241m10\u001b[39m, \u001b[38;5;241m20\u001b[39m, \u001b[38;5;241m5\u001b[39m)\n\u001b[0;32m      2\u001b[0m \u001b[38;5;28mprint\u001b[39m(\u001b[38;5;124mf\u001b[39m\u001b[38;5;124m\"\u001b[39m\u001b[38;5;124mThe largest number is: \u001b[39m\u001b[38;5;132;01m{\u001b[39;00mmax_value\u001b[38;5;132;01m}\u001b[39;00m\u001b[38;5;124m\"\u001b[39m)\n",
      "\u001b[1;31mNameError\u001b[0m: name 'find_max' is not defined"
     ]
    }
   ],
   "source": [
    "max_value = find_max(10, 20, 5)\n",
    "print(f\"The largest number is: {max_value}\")\n"
   ]
  },
  {
   "cell_type": "code",
   "execution_count": null,
   "id": "47a5e252-102e-41c1-ad45-0bf7201fec29",
   "metadata": {},
   "outputs": [],
   "source": []
  }
 ],
 "metadata": {
  "kernelspec": {
   "display_name": "Python 3 (ipykernel)",
   "language": "python",
   "name": "python3"
  },
  "language_info": {
   "codemirror_mode": {
    "name": "ipython",
    "version": 3
   },
   "file_extension": ".py",
   "mimetype": "text/x-python",
   "name": "python",
   "nbconvert_exporter": "python",
   "pygments_lexer": "ipython3",
   "version": "3.12.4"
  }
 },
 "nbformat": 4,
 "nbformat_minor": 5
}
