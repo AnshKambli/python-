{
  "nbformat": 4,
  "nbformat_minor": 0,
  "metadata": {
    "colab": {
      "provenance": [],
      "authorship_tag": "ABX9TyOGHRAS0QJdbQQFrWWw1D+r",
      "include_colab_link": true
    },
    "kernelspec": {
      "name": "python3",
      "display_name": "Python 3"
    },
    "language_info": {
      "name": "python"
    }
  },
  "cells": [
    {
      "cell_type": "markdown",
      "metadata": {
        "id": "view-in-github",
        "colab_type": "text"
      },
      "source": [
        "<a href=\"https://colab.research.google.com/github/AnshKambli/python-/blob/main/Second%20largest%20Number.ipynb\" target=\"_parent\"><img src=\"https://colab.research.google.com/assets/colab-badge.svg\" alt=\"Open In Colab\"/></a>"
      ]
    },
    {
      "cell_type": "code",
      "execution_count": 3,
      "metadata": {
        "colab": {
          "base_uri": "https://localhost:8080/"
        },
        "id": "M8vzfBTSx8EP",
        "outputId": "519efd21-44bb-428a-ccad-c8b2e8d01c0d"
      },
      "outputs": [
        {
          "output_type": "stream",
          "name": "stdout",
          "text": [
            "Enter numbers separated by space: 1 4 5 6\n",
            "Second largest number: 5\n"
          ]
        }
      ],
      "source": [
        "def second_largest(numbers):\n",
        "    # Remove duplicates and sort the list in descending order\n",
        "    unique_numbers = list(set(numbers))\n",
        "    unique_numbers.sort(reverse=True)\n",
        "\n",
        "    # Check if there is at least two unique numbers\n",
        "    if len(unique_numbers) < 2:\n",
        "        return \"There is no second largest number.\"\n",
        "\n",
        "    # Return the second largest number\n",
        "    return unique_numbers[1]\n",
        "\n",
        "# Input the list of numbers\n",
        "numbers = list(map(int, input(\"Enter numbers separated by space: \").split()))\n",
        "\n",
        "# Call the function to find the second largest number\n",
        "result = second_largest(numbers)\n",
        "\n",
        "# Output the result\n",
        "print(f\"Second largest number: {result}\")\n"
      ]
    },
    {
      "cell_type": "code",
      "source": [],
      "metadata": {
        "id": "FJ6s5AB6z_nV"
      },
      "execution_count": null,
      "outputs": []
    }
  ]
}