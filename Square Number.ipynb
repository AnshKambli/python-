{
 "cells": [
  {
   "cell_type": "code",
   "execution_count": 3,
   "id": "c75a52ca-1425-4ee6-906e-9a42a3d34d79",
   "metadata": {},
   "outputs": [],
   "source": [
    "# Write a python code that takes a number as arguments and return its square\n"
   ]
  },
  {
   "cell_type": "code",
   "execution_count": 15,
   "id": "8fe6bc16-21b5-4c85-bfe3-409aacf3132d",
   "metadata": {},
   "outputs": [
    {
     "name": "stdin",
     "output_type": "stream",
     "text": [
      "enter the number 29\n",
      "enter the number 8503\n"
     ]
    },
    {
     "name": "stdout",
     "output_type": "stream",
     "text": [
      "this is larger number 8503\n"
     ]
    }
   ],
   "source": [
    "def square(nums):\n",
    "        return nums*nums\n",
    "a=int(input(\"enter the number\"))\n",
    "num=square(a)\n",
    "print(f\"this is square number {num}\")"
   ]
  },
  {
   "cell_type": "code",
   "execution_count": null,
   "id": "6c72e46c-edd5-4e6c-87e0-8ad448a89d20",
   "metadata": {},
   "outputs": [],
   "source": []
  }
 ],
 "metadata": {
  "kernelspec": {
   "display_name": "Python 3 (ipykernel)",
   "language": "python",
   "name": "python3"
  },
  "language_info": {
   "codemirror_mode": {
    "name": "ipython",
    "version": 3
   },
   "file_extension": ".py",
   "mimetype": "text/x-python",
   "name": "python",
   "nbconvert_exporter": "python",
   "pygments_lexer": "ipython3",
   "version": "3.12.4"
  }
 },
 "nbformat": 4,
 "nbformat_minor": 5
}
