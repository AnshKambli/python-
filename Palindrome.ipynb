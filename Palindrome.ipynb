{
  "nbformat": 4,
  "nbformat_minor": 0,
  "metadata": {
    "colab": {
      "provenance": [],
      "authorship_tag": "ABX9TyOtmopuU0kMNM8taOY9KRrI",
      "include_colab_link": true
    },
    "kernelspec": {
      "name": "python3",
      "display_name": "Python 3"
    },
    "language_info": {
      "name": "python"
    }
  },
  "cells": [
    {
      "cell_type": "markdown",
      "metadata": {
        "id": "view-in-github",
        "colab_type": "text"
      },
      "source": [
        "<a href=\"https://colab.research.google.com/github/AnshKambli/python-/blob/main/Palindrome.ipynb\" target=\"_parent\"><img src=\"https://colab.research.google.com/assets/colab-badge.svg\" alt=\"Open In Colab\"/></a>"
      ]
    },
    {
      "cell_type": "code",
      "execution_count": 1,
      "metadata": {
        "id": "MDXse3k8anLk"
      },
      "outputs": [],
      "source": [
        "# Write a Python program to check if a given string is a palindrome."
      ]
    },
    {
      "cell_type": "code",
      "source": [
        "def is_palindrome(string):\n",
        "    # Remove spaces and convert to lowercase\n",
        "    cleaned_string = string.replace(\" \", \"\").lower()\n",
        "    # Check if the string is equal to its reverse\n",
        "    return cleaned_string == cleaned_string[::-1]\n",
        "\n",
        "# Get input from the user\n",
        "user_input = input(\"Enter a string to check if it's a palindrome: \")\n",
        "\n",
        "if is_palindrome(user_input):\n",
        "    print(f'\"{user_input}\" is a palindrome!')\n",
        "else:\n",
        "    print(f'\"{user_input}\" is not a palindrome.')\n"
      ],
      "metadata": {
        "colab": {
          "base_uri": "https://localhost:8080/"
        },
        "id": "5JEuwcqmbZmo",
        "outputId": "aaec1202-666c-4dc9-f817-f8b71a7c0080"
      },
      "execution_count": 4,
      "outputs": [
        {
          "output_type": "stream",
          "name": "stdout",
          "text": [
            "Enter a string to check if it's a palindrome: toot\n",
            "\"toot\" is a palindrome!\n"
          ]
        }
      ]
    },
    {
      "cell_type": "code",
      "source": [],
      "metadata": {
        "id": "0UO3sjdUbosS"
      },
      "execution_count": null,
      "outputs": []
    }
  ]
}