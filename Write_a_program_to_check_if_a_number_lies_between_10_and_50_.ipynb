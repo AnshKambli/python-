{
  "nbformat": 4,
  "nbformat_minor": 0,
  "metadata": {
    "colab": {
      "provenance": [],
      "authorship_tag": "ABX9TyP3jmfCioihnL12kYkcO7MT",
      "include_colab_link": true
    },
    "kernelspec": {
      "name": "python3",
      "display_name": "Python 3"
    },
    "language_info": {
      "name": "python"
    }
  },
  "cells": [
    {
      "cell_type": "markdown",
      "metadata": {
        "id": "view-in-github",
        "colab_type": "text"
      },
      "source": [
        "<a href=\"https://colab.research.google.com/github/AnshKambli/python-/blob/main/Write_a_program_to_check_if_a_number_lies_between_10_and_50_.ipynb\" target=\"_parent\"><img src=\"https://colab.research.google.com/assets/colab-badge.svg\" alt=\"Open In Colab\"/></a>"
      ]
    },
    {
      "cell_type": "code",
      "execution_count": 1,
      "metadata": {
        "id": "Q8T55Wa3tEuP"
      },
      "outputs": [],
      "source": [
        "#Write a program to check if a number lies between 10 and 50"
      ]
    },
    {
      "cell_type": "code",
      "source": [
        "def range(nums):\n",
        "  if nums >= 10 and nums <= 50:\n",
        "    return True\n",
        "  else:\n",
        "    return False\n",
        "a=int(input(\"enter the number\"))\n",
        "b=range(a)\n",
        "print(f\"{b}\")"
      ],
      "metadata": {
        "colab": {
          "base_uri": "https://localhost:8080/"
        },
        "id": "B-XZrpO2tL1a",
        "outputId": "26e8ad04-3124-46e7-dfce-98126815b249"
      },
      "execution_count": 5,
      "outputs": [
        {
          "output_type": "stream",
          "name": "stdout",
          "text": [
            "enter the number55\n",
            "False\n"
          ]
        }
      ]
    },
    {
      "cell_type": "code",
      "source": [],
      "metadata": {
        "id": "Dr4n32TCt1gw"
      },
      "execution_count": null,
      "outputs": []
    }
  ]
}