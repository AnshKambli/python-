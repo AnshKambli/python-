{
 "cells": [
  {
   "cell_type": "code",
   "execution_count": 18,
   "id": "c75a52ca-1425-4ee6-906e-9a42a3d34d79",
   "metadata": {},
   "outputs": [],
   "source": [
    "# Write a python code that takes a temperature in fahrenheit as arguments and returns the temperataure in celsisus\n"
   ]
  },
  {
   "cell_type": "code",
   "execution_count": 19,
   "id": "45a7be35-11c7-4b06-910c-af05c3bc439e",
   "metadata": {},
   "outputs": [],
   "source": [
    "# Formula for celsius\n",
    "# Celsius=(fahrenheit-32)*5/9"
   ]
  },
  {
   "cell_type": "code",
   "execution_count": null,
   "id": "8fe6bc16-21b5-4c85-bfe3-409aacf3132d",
   "metadata": {},
   "outputs": [],
   "source": [
    "def convet_to_celsius(fahrenheit):\n",
    "        return (fahrenheit-32)*5/9\n",
    "a=int(input(\"enter the number\"))\n",
    "num=convert_to_celsius(a)\n",
    "print(f\"Temperature in celsius {num}\")"
   ]
  },
  {
   "cell_type": "code",
   "execution_count": null,
   "id": "6c72e46c-edd5-4e6c-87e0-8ad448a89d20",
   "metadata": {},
   "outputs": [],
   "source": []
  }
 ],
 "metadata": {
  "kernelspec": {
   "display_name": "Python 3 (ipykernel)",
   "language": "python",
   "name": "python3"
  },
  "language_info": {
   "codemirror_mode": {
    "name": "ipython",
    "version": 3
   },
   "file_extension": ".py",
   "mimetype": "text/x-python",
   "name": "python",
   "nbconvert_exporter": "python",
   "pygments_lexer": "ipython3",
   "version": "3.12.4"
  }
 },
 "nbformat": 4,
 "nbformat_minor": 5
}
