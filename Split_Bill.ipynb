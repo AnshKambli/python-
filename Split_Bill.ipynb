{
  "nbformat": 4,
  "nbformat_minor": 0,
  "metadata": {
    "colab": {
      "provenance": [],
      "authorship_tag": "ABX9TyPwn+eY2KYJLFigj5O99xqt",
      "include_colab_link": true
    },
    "kernelspec": {
      "name": "python3",
      "display_name": "Python 3"
    },
    "language_info": {
      "name": "python"
    }
  },
  "cells": [
    {
      "cell_type": "markdown",
      "metadata": {
        "id": "view-in-github",
        "colab_type": "text"
      },
      "source": [
        "<a href=\"https://colab.research.google.com/github/AnshKambli/python-/blob/main/Split_Bill.ipynb\" target=\"_parent\"><img src=\"https://colab.research.google.com/assets/colab-badge.svg\" alt=\"Open In Colab\"/></a>"
      ]
    },
    {
      "cell_type": "code",
      "execution_count": 7,
      "metadata": {
        "colab": {
          "base_uri": "https://localhost:8080/"
        },
        "id": "Y9pV4RQLk5b7",
        "outputId": "d930cad4-2efc-4086-c0c6-89e50860bcc9"
      },
      "outputs": [
        {
          "output_type": "stream",
          "name": "stdout",
          "text": [
            "Enter the total bill amount: ₹ 1500\n",
            "Enter the number of friends: 5\n",
            "Enter tip percentage (e.g., 10 for 10%): 10\n",
            "\n",
            "Total bill including tip: ₹ 1650.00\n",
            "Each friend's share: ₹ 330.00\n"
          ]
        }
      ],
      "source": [
        "def split_bill():\n",
        "    # Input the total bill amount\n",
        "    total_bill = float(input(\"Enter the total bill amount: ₹ \"))\n",
        "\n",
        "    # Input the number of friends\n",
        "    num_friends = int(input(\"Enter the number of friends: \"))\n",
        "\n",
        "    # Check for valid number of friends\n",
        "    if num_friends <= 0:\n",
        "        print(\"The number of friends must be greater than 0.\")\n",
        "        return\n",
        "\n",
        "    # Input any tip or additional charges\n",
        "    tip_percentage = float(input(\"Enter tip percentage (e.g., 10 for 10%): \"))\n",
        "    tip_amount = (tip_percentage / 100) * total_bill\n",
        "\n",
        "    # Total amount including tip\n",
        "    total_amount = total_bill + tip_amount\n",
        "    print(f\"\\nTotal bill including tip: ₹ {total_amount:.2f}\")\n",
        "\n",
        "    # Calculate each friend's share\n",
        "    per_person_share = total_amount / num_friends\n",
        "    print(f\"Each friend's share: ₹ {per_person_share:.2f}\")\n",
        "\n",
        "# Run the program\n",
        "split_bill()\n"
      ]
    },
    {
      "cell_type": "code",
      "source": [],
      "metadata": {
        "id": "rLpAghQlmbFT"
      },
      "execution_count": null,
      "outputs": []
    }
  ]
}