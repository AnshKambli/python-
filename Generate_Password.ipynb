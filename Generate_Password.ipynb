{
  "nbformat": 4,
  "nbformat_minor": 0,
  "metadata": {
    "colab": {
      "provenance": [],
      "authorship_tag": "ABX9TyOvLgkXY1+JBHHQDKrOj32/",
      "include_colab_link": true
    },
    "kernelspec": {
      "name": "python3",
      "display_name": "Python 3"
    },
    "language_info": {
      "name": "python"
    }
  },
  "cells": [
    {
      "cell_type": "markdown",
      "metadata": {
        "id": "view-in-github",
        "colab_type": "text"
      },
      "source": [
        "<a href=\"https://colab.research.google.com/github/AnshKambli/python-/blob/main/Generate_Password.ipynb\" target=\"_parent\"><img src=\"https://colab.research.google.com/assets/colab-badge.svg\" alt=\"Open In Colab\"/></a>"
      ]
    },
    {
      "cell_type": "code",
      "execution_count": 6,
      "metadata": {
        "colab": {
          "base_uri": "https://localhost:8080/"
        },
        "id": "Y9pV4RQLk5b7",
        "outputId": "589c1eeb-39b1-4601-b162-78059a3cd8f7"
      },
      "outputs": [
        {
          "output_type": "stream",
          "name": "stdout",
          "text": [
            "Enter the length of the password: 12\n",
            "Generated Password: \\Z7t]*4,'-!O\n"
          ]
        }
      ],
      "source": [
        "import random\n",
        "import string\n",
        "\n",
        "def generate_password(length):\n",
        "    # Define the characters to choose from\n",
        "    characters = string.ascii_letters + string.digits + string.punctuation\n",
        "    # Randomly choose characters from the defined set\n",
        "    password = ''.join(random.choice(characters) for _ in range(length))\n",
        "    return password\n",
        "\n",
        "# Input for password length\n",
        "length = int(input(\"Enter the length of the password: \"))\n",
        "# Generate and display the password\n",
        "password = generate_password(length)\n",
        "print(f\"Generated Password: {password}\")\n"
      ]
    },
    {
      "cell_type": "code",
      "source": [],
      "metadata": {
        "id": "rLpAghQlmbFT"
      },
      "execution_count": null,
      "outputs": []
    }
  ]
}