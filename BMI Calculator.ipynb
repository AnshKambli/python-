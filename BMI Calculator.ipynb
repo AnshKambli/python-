{
  "nbformat": 4,
  "nbformat_minor": 0,
  "metadata": {
    "colab": {
      "provenance": [],
      "authorship_tag": "ABX9TyO369VEIxnzzaK7IPmfzo4M",
      "include_colab_link": true
    },
    "kernelspec": {
      "name": "python3",
      "display_name": "Python 3"
    },
    "language_info": {
      "name": "python"
    }
  },
  "cells": [
    {
      "cell_type": "markdown",
      "metadata": {
        "id": "view-in-github",
        "colab_type": "text"
      },
      "source": [
        "<a href=\"https://colab.research.google.com/github/AnshKambli/python-/blob/main/BMI%20Calculator.ipynb\" target=\"_parent\"><img src=\"https://colab.research.google.com/assets/colab-badge.svg\" alt=\"Open In Colab\"/></a>"
      ]
    },
    {
      "cell_type": "code",
      "execution_count": 6,
      "metadata": {
        "colab": {
          "base_uri": "https://localhost:8080/"
        },
        "id": "M8vzfBTSx8EP",
        "outputId": "08c8de06-07e6-436b-f674-4a78aa4a0a1b"
      },
      "outputs": [
        {
          "output_type": "stream",
          "name": "stdout",
          "text": [
            "Enter your weight in kg: 66\n",
            "Enter your height in meters: 1.76784\n",
            "Your BMI is: 21.12\n",
            "Your BMI category is: Normal weight\n"
          ]
        }
      ],
      "source": [
        "def calculate_bmi(weight, height):\n",
        "    # Calculate BMI using the formula: BMI = weight (kg) / height^2 (m^2)\n",
        "    bmi = weight / (height ** 2)\n",
        "\n",
        "    # Categorize the BMI result\n",
        "    if bmi < 18.5:\n",
        "        category = \"Underweight\"\n",
        "    elif 18.5 <= bmi < 24.9:\n",
        "        category = \"Normal weight\"\n",
        "    elif 25 <= bmi < 29.9:\n",
        "        category = \"Overweight\"\n",
        "    else:\n",
        "        category = \"Obesity\"\n",
        "\n",
        "    return bmi, category\n",
        "\n",
        "# Input: Weight in kilograms and Height in meters\n",
        "weight = float(input(\"Enter your weight in kg: \"))\n",
        "height = float(input(\"Enter your height in meters: \"))\n",
        "\n",
        "# Call the function to calculate BMI and its category\n",
        "bmi, category = calculate_bmi(weight, height)\n",
        "\n",
        "# Output the result\n",
        "print(f\"Your BMI is: {bmi:.2f}\")\n",
        "print(f\"Your BMI category is: {category}\")\n"
      ]
    },
    {
      "cell_type": "code",
      "source": [],
      "metadata": {
        "id": "FJ6s5AB6z_nV"
      },
      "execution_count": null,
      "outputs": []
    }
  ]
}